{
 "cells": [
  {
   "cell_type": "markdown",
   "metadata": {},
   "source": [
    "## Python Code : WOE and IV\n",
    "\n",
    "There are three methods that I have tested:\n",
    "\n",
    "1. Python function shared by [Deepanshu Bhalia](https://www.linkedin.com/in/deepanshubhalla/) and adjusted for mobile application specifications (max_bins=6)\n",
    "2. Functions from the [pywoe](https://github.com/Densur/PyWoE/blob/master/woe.py) package by [Denis Surzhko](https://www.linkedin.com/in/denis-surzhko-phd-prm-61135031/?originalSubdomain=ru)\n",
    "3. Using the category_encoders library."
   ]
  },
  {
   "cell_type": "code",
   "execution_count": 17,
   "metadata": {},
   "outputs": [],
   "source": [
    "# Load Required Packages\n",
    "import pandas as pd\n",
    "import numpy as np"
   ]
  },
  {
   "cell_type": "code",
   "execution_count": 18,
   "metadata": {},
   "outputs": [],
   "source": [
    "# Read Data\n",
    "trainDF = pd.read_csv(\"../../data/cs-training.csv\")\n",
    "processed_trainDF = pd.read_csv(\"../../data/train_no_nulls.csv\")\n",
    "testDF = pd.read_csv(\"../../data/cs-test.csv\")"
   ]
  },
  {
   "cell_type": "markdown",
   "metadata": {},
   "source": [
    "### 4-step WOE calculation with python function\n",
    "\n",
    "The decision was made to run through this process twice to determine the scale for positive and negative values. It is expected that the the first run with the raw data containing missing values (`trainDF`) will output a scale where positive and negative values are based on a 1 value scale(eg. neg: 0.45, pos: 1.56). The second run with `processed_trainDF` does not contain missing values with top-coding for outliers is based on zero (eg. neg: -0.034, pos: 0.035)\n",
    "\n",
    "See Weight of Evidence Report for more information."
   ]
  },
  {
   "cell_type": "code",
   "execution_count": 19,
   "metadata": {},
   "outputs": [],
   "source": [
    "# Load Required Packages\n",
    "import pandas as pd\n",
    "import numpy as np"
   ]
  },
  {
   "cell_type": "code",
   "execution_count": 20,
   "metadata": {},
   "outputs": [
    {
     "name": "stdout",
     "output_type": "stream",
     "text": [
      "<class 'pandas.core.frame.DataFrame'>\n",
      "RangeIndex: 150000 entries, 0 to 149999\n",
      "Data columns (total 11 columns):\n",
      " #   Column                                Non-Null Count   Dtype  \n",
      "---  ------                                --------------   -----  \n",
      " 0   SeriousDlqin2yrs                      150000 non-null  int64  \n",
      " 1   RevolvingUtilizationOfUnsecuredLines  150000 non-null  float64\n",
      " 2   age                                   150000 non-null  int64  \n",
      " 3   NumberOfTime30-59DaysPastDueNotWorse  150000 non-null  int64  \n",
      " 4   DebtRatio                             150000 non-null  float64\n",
      " 5   MonthlyIncome                         120269 non-null  float64\n",
      " 6   NumberOfOpenCreditLinesAndLoans       150000 non-null  int64  \n",
      " 7   NumberOfTimes90DaysLate               150000 non-null  int64  \n",
      " 8   NumberRealEstateLoansOrLines          150000 non-null  int64  \n",
      " 9   NumberOfTime60-89DaysPastDueNotWorse  150000 non-null  int64  \n",
      " 10  NumberOfDependents                    146076 non-null  float64\n",
      "dtypes: float64(4), int64(7)\n",
      "memory usage: 12.6 MB\n"
     ]
    }
   ],
   "source": [
    "# Test for 1-scale\n",
    "trainDF.drop(columns=['Unnamed: 0'], inplace=True)\n",
    "trainDF.info()"
   ]
  },
  {
   "cell_type": "code",
   "execution_count": 21,
   "metadata": {},
   "outputs": [],
   "source": [
    "# Select a target\n",
    "target_col = 'SeriousDlqin2yrs'"
   ]
  },
  {
   "cell_type": "code",
   "execution_count": 145,
   "metadata": {},
   "outputs": [
    {
     "data": {
      "text/plain": [
       "120252"
      ]
     },
     "execution_count": 145,
     "metadata": {},
     "output_type": "execute_result"
    }
   ],
   "source": [
    "trainDF.loc[trainDF[current_col] <=300_000, current_col].count()"
   ]
  },
  {
   "cell_type": "code",
   "execution_count": 141,
   "metadata": {},
   "outputs": [
    {
     "data": {
      "image/png": "[encoded data removed]",
      "text/plain": [
       "<Figure size 640x480 with 1 Axes>"
      ]
     },
     "metadata": {},
     "output_type": "display_data"
    }
   ],
   "source": [
    "plt.hist(trainDF.loc[trainDF[current_col] <=300_000], range=[0,31000]);"
   ]
  },
  {
   "cell_type": "code",
   "execution_count": 123,
   "metadata": {},
   "outputs": [],
   "source": [
    "# (optional) set bin limits\n",
    "NumberOfDependents_bins = pd.IntervalIndex.from_tuples([(-0.02, 1), (2,20)])\n",
    "RevolvingUtilizationOfUnsecuredLines_bins = pd.IntervalIndex.from_tuples([(0, 0.49), (0.5, 0.99), (1, 1.49), (1.5, 60_000)])\n",
    "age_bins = pd.IntervalIndex.from_tuples([(0,17), (18, 25), (26, 34), (35, 44), (45, 64), (65, 120)])\n",
    "NumberOfTime3059DaysPastDueNotWorse_bins = pd.IntervalIndex.from_tuples([(-0.098, 0.99), (1, 1.99), (2, 100)])\n",
    "DebtRatio_bins = pd.IntervalIndex.from_tuples([(0, .31249), (.3125, .6249), (0.625, 2.49), (2.5,150_000)])\n",
    "MonthlyIncome_bins = 10\n",
    "\n",
    "bins = {\n",
    "    'NumberOfDependents': NumberOfDependents_bins, # IV: 2.825983\n",
    "    'RevolvingUtilizationOfUnsecuredLines': RevolvingUtilizationOfUnsecuredLines_bins, # IV: 6.877788\n",
    "    'age': age_bins, #IV: 9.25017\n",
    "    'NumberOfTime30-59DaysPastDueNotWorse': NumberOfTime3059DaysPastDueNotWorse_bins, #IV: 1.509275\n",
    "    'DebtRatio': DebtRatio_bins, #IV: 5.79739\n",
    "    'MonthlyIncome': MonthlyIncome_bins, # IV: \n",
    "}\n",
    "\n",
    "current_col = 'MonthlyIncome'"
   ]
  },
  {
   "cell_type": "code",
   "execution_count": 124,
   "metadata": {},
   "outputs": [],
   "source": [
    "# Empty Dataframes for output\n",
    "ivDF, woeDF = pd.DataFrame(), pd.DataFrame()"
   ]
  },
  {
   "cell_type": "code",
   "execution_count": 125,
   "metadata": {},
   "outputs": [],
   "source": [
    "# Extract Column Names\n",
    "feature_cols = [col for col in trainDF.columns[~trainDF.columns.isin([target_col])]]"
   ]
  },
  {
   "cell_type": "code",
   "execution_count": 126,
   "metadata": {},
   "outputs": [
    {
     "data": {
      "text/html": [
       "<div>\n",
       "<style scoped>\n",
       "    .dataframe tbody tr th:only-of-type {\n",
       "        vertical-align: middle;\n",
       "    }\n",
       "\n",
       "    .dataframe tbody tr th {\n",
       "        vertical-align: top;\n",
       "    }\n",
       "\n",
       "    .dataframe thead th {\n",
       "        text-align: right;\n",
       "    }\n",
       "</style>\n",
       "<table border=\"1\" class=\"dataframe\">\n",
       "  <thead>\n",
       "    <tr style=\"text-align: right;\">\n",
       "      <th></th>\n",
       "      <th>Variable</th>\n",
       "      <th>SeriousDlqin2yrs</th>\n",
       "    </tr>\n",
       "  </thead>\n",
       "  <tbody>\n",
       "    <tr>\n",
       "      <th>0</th>\n",
       "      <td>(-3008.75, 300875.0]</td>\n",
       "      <td>1</td>\n",
       "    </tr>\n",
       "    <tr>\n",
       "      <th>1</th>\n",
       "      <td>(-3008.75, 300875.0]</td>\n",
       "      <td>0</td>\n",
       "    </tr>\n",
       "    <tr>\n",
       "      <th>2</th>\n",
       "      <td>(-3008.75, 300875.0]</td>\n",
       "      <td>0</td>\n",
       "    </tr>\n",
       "  </tbody>\n",
       "</table>\n",
       "</div>"
      ],
      "text/plain": [
       "               Variable  SeriousDlqin2yrs\n",
       "0  (-3008.75, 300875.0]                 1\n",
       "1  (-3008.75, 300875.0]                 0\n",
       "2  (-3008.75, 300875.0]                 0"
      ]
     },
     "execution_count": 126,
     "metadata": {},
     "output_type": "execute_result"
    }
   ],
   "source": [
    "# Test loop\n",
    "for ivars in feature_cols:\n",
    "\tif ivars == current_col:\n",
    "\t\t# 1. Split continuous and categorical independent variables\n",
    "\t\tif trainDF[ivars].dtype.kind in 'bifc' and (len(np.unique(trainDF[ivars]))>10):\n",
    "\t\t\tbinned_x = pd.cut(trainDF[ivars], bins=bins[ivars], duplicates='drop')\n",
    "\t\t\tdf0 = pd.DataFrame({'Variable':binned_x, 'SeriousDlqin2yrs':trainDF[target_col]})\n",
    "\t\telse:\n",
    "\t\t\tdf0 = pd.DataFrame({f'Variable':trainDF[ivars], 'SeriousDlqin2yrs':trainDF[target_col]})\n",
    "\telse: pass\n",
    "\n",
    "df0.head(3)"
   ]
  },
  {
   "cell_type": "code",
   "execution_count": 127,
   "metadata": {},
   "outputs": [
    {
     "data": {
      "text/html": [
       "<div>\n",
       "<style scoped>\n",
       "    .dataframe tbody tr th:only-of-type {\n",
       "        vertical-align: middle;\n",
       "    }\n",
       "\n",
       "    .dataframe tbody tr th {\n",
       "        vertical-align: top;\n",
       "    }\n",
       "\n",
       "    .dataframe thead th {\n",
       "        text-align: right;\n",
       "    }\n",
       "</style>\n",
       "<table border=\"1\" class=\"dataframe\">\n",
       "  <thead>\n",
       "    <tr style=\"text-align: right;\">\n",
       "      <th></th>\n",
       "      <th>Variable</th>\n",
       "      <th>SeriousDlqin2yrs</th>\n",
       "    </tr>\n",
       "  </thead>\n",
       "  <tbody>\n",
       "    <tr>\n",
       "      <th>0</th>\n",
       "      <td>(-3008.75, 300875.0]</td>\n",
       "      <td>8357</td>\n",
       "    </tr>\n",
       "    <tr>\n",
       "      <th>1</th>\n",
       "      <td>(1504375.0, 1805250.0]</td>\n",
       "      <td>0</td>\n",
       "    </tr>\n",
       "    <tr>\n",
       "      <th>2</th>\n",
       "      <td>(2707875.0, 3008750.0]</td>\n",
       "      <td>0</td>\n",
       "    </tr>\n",
       "  </tbody>\n",
       "</table>\n",
       "</div>"
      ],
      "text/plain": [
       "                 Variable  SeriousDlqin2yrs\n",
       "0    (-3008.75, 300875.0]              8357\n",
       "1  (1504375.0, 1805250.0]                 0\n",
       "2  (2707875.0, 3008750.0]                 0"
      ]
     },
     "execution_count": 127,
     "metadata": {},
     "output_type": "execute_result"
    }
   ],
   "source": [
    "# 2. Count number of target events for each bin\t\n",
    "df0 = df0.astype({\"Variable\":str})\n",
    "df = df0.groupby(\"Variable\", as_index=False, dropna=False)['SeriousDlqin2yrs'].sum()\n",
    "\n",
    "df.head(3)"
   ]
  },
  {
   "cell_type": "code",
   "execution_count": 128,
   "metadata": {},
   "outputs": [
    {
     "data": {
      "text/html": [
       "<div>\n",
       "<style scoped>\n",
       "    .dataframe tbody tr th:only-of-type {\n",
       "        vertical-align: middle;\n",
       "    }\n",
       "\n",
       "    .dataframe tbody tr th {\n",
       "        vertical-align: top;\n",
       "    }\n",
       "\n",
       "    .dataframe thead th {\n",
       "        text-align: right;\n",
       "    }\n",
       "</style>\n",
       "<table border=\"1\" class=\"dataframe\">\n",
       "  <thead>\n",
       "    <tr style=\"text-align: right;\">\n",
       "      <th></th>\n",
       "      <th>QuantileRange</th>\n",
       "      <th>TargetCount</th>\n",
       "      <th>% of Qualified</th>\n",
       "      <th>% of Delinquent</th>\n",
       "    </tr>\n",
       "  </thead>\n",
       "  <tbody>\n",
       "    <tr>\n",
       "      <th>0</th>\n",
       "      <td>(-3008.75, 300875.0]</td>\n",
       "      <td>8357</td>\n",
       "      <td>0.833533</td>\n",
       "      <td>0.166467</td>\n",
       "    </tr>\n",
       "    <tr>\n",
       "      <th>1</th>\n",
       "      <td>(1504375.0, 1805250.0]</td>\n",
       "      <td>0</td>\n",
       "      <td>0.000050</td>\n",
       "      <td>0.999950</td>\n",
       "    </tr>\n",
       "    <tr>\n",
       "      <th>2</th>\n",
       "      <td>(2707875.0, 3008750.0]</td>\n",
       "      <td>0</td>\n",
       "      <td>0.000050</td>\n",
       "      <td>0.999950</td>\n",
       "    </tr>\n",
       "  </tbody>\n",
       "</table>\n",
       "</div>"
      ],
      "text/plain": [
       "            QuantileRange  TargetCount  % of Qualified  % of Delinquent\n",
       "0    (-3008.75, 300875.0]         8357        0.833533         0.166467\n",
       "1  (1504375.0, 1805250.0]            0        0.000050         0.999950\n",
       "2  (2707875.0, 3008750.0]            0        0.000050         0.999950"
      ]
     },
     "execution_count": 128,
     "metadata": {},
     "output_type": "execute_result"
    }
   ],
   "source": [
    "# 3. Calculate the % of events by % of non-events\n",
    "df.columns = ['QuantileRange', 'TargetCount']\n",
    "df['% of Qualified'] = np.maximum(df['TargetCount'], 0.5) / df['TargetCount'].sum()\n",
    "df['% of Delinquent'] = 1 - df['% of Qualified']\n",
    "\n",
    "df.head(3)"
   ]
  },
  {
   "cell_type": "code",
   "execution_count": 129,
   "metadata": {},
   "outputs": [
    {
     "data": {
      "text/html": [
       "<div>\n",
       "<style scoped>\n",
       "    .dataframe tbody tr th:only-of-type {\n",
       "        vertical-align: middle;\n",
       "    }\n",
       "\n",
       "    .dataframe tbody tr th {\n",
       "        vertical-align: top;\n",
       "    }\n",
       "\n",
       "    .dataframe thead th {\n",
       "        text-align: right;\n",
       "    }\n",
       "</style>\n",
       "<table border=\"1\" class=\"dataframe\">\n",
       "  <thead>\n",
       "    <tr style=\"text-align: right;\">\n",
       "      <th></th>\n",
       "      <th>Variable</th>\n",
       "      <th>QuantileRange</th>\n",
       "      <th>TargetCount</th>\n",
       "      <th>% of Qualified</th>\n",
       "      <th>% of Delinquent</th>\n",
       "      <th>WoE</th>\n",
       "      <th>IV</th>\n",
       "    </tr>\n",
       "  </thead>\n",
       "  <tbody>\n",
       "    <tr>\n",
       "      <th>0</th>\n",
       "      <td>MonthlyIncome</td>\n",
       "      <td>(-3008.75, 300875.0]</td>\n",
       "      <td>8357</td>\n",
       "      <td>0.833533</td>\n",
       "      <td>0.166467</td>\n",
       "      <td>-1.610875</td>\n",
       "      <td>1.074559</td>\n",
       "    </tr>\n",
       "    <tr>\n",
       "      <th>1</th>\n",
       "      <td>MonthlyIncome</td>\n",
       "      <td>(1504375.0, 1805250.0]</td>\n",
       "      <td>0</td>\n",
       "      <td>0.000050</td>\n",
       "      <td>0.999950</td>\n",
       "      <td>9.906034</td>\n",
       "      <td>9.905046</td>\n",
       "    </tr>\n",
       "    <tr>\n",
       "      <th>2</th>\n",
       "      <td>MonthlyIncome</td>\n",
       "      <td>(2707875.0, 3008750.0]</td>\n",
       "      <td>0</td>\n",
       "      <td>0.000050</td>\n",
       "      <td>0.999950</td>\n",
       "      <td>9.906034</td>\n",
       "      <td>9.905046</td>\n",
       "    </tr>\n",
       "    <tr>\n",
       "      <th>3</th>\n",
       "      <td>MonthlyIncome</td>\n",
       "      <td>(300875.0, 601750.0]</td>\n",
       "      <td>0</td>\n",
       "      <td>0.000050</td>\n",
       "      <td>0.999950</td>\n",
       "      <td>9.906034</td>\n",
       "      <td>9.905046</td>\n",
       "    </tr>\n",
       "    <tr>\n",
       "      <th>4</th>\n",
       "      <td>MonthlyIncome</td>\n",
       "      <td>(601750.0, 902625.0]</td>\n",
       "      <td>0</td>\n",
       "      <td>0.000050</td>\n",
       "      <td>0.999950</td>\n",
       "      <td>9.906034</td>\n",
       "      <td>9.905046</td>\n",
       "    </tr>\n",
       "    <tr>\n",
       "      <th>5</th>\n",
       "      <td>MonthlyIncome</td>\n",
       "      <td>(902625.0, 1203500.0]</td>\n",
       "      <td>0</td>\n",
       "      <td>0.000050</td>\n",
       "      <td>0.999950</td>\n",
       "      <td>9.906034</td>\n",
       "      <td>9.905046</td>\n",
       "    </tr>\n",
       "    <tr>\n",
       "      <th>6</th>\n",
       "      <td>MonthlyIncome</td>\n",
       "      <td>nan</td>\n",
       "      <td>1669</td>\n",
       "      <td>0.166467</td>\n",
       "      <td>0.833533</td>\n",
       "      <td>1.610875</td>\n",
       "      <td>1.074559</td>\n",
       "    </tr>\n",
       "  </tbody>\n",
       "</table>\n",
       "</div>"
      ],
      "text/plain": [
       "        Variable           QuantileRange  TargetCount  % of Qualified  \\\n",
       "0  MonthlyIncome    (-3008.75, 300875.0]         8357        0.833533   \n",
       "1  MonthlyIncome  (1504375.0, 1805250.0]            0        0.000050   \n",
       "2  MonthlyIncome  (2707875.0, 3008750.0]            0        0.000050   \n",
       "3  MonthlyIncome    (300875.0, 601750.0]            0        0.000050   \n",
       "4  MonthlyIncome    (601750.0, 902625.0]            0        0.000050   \n",
       "5  MonthlyIncome   (902625.0, 1203500.0]            0        0.000050   \n",
       "6  MonthlyIncome                     nan         1669        0.166467   \n",
       "\n",
       "   % of Delinquent       WoE        IV  \n",
       "0         0.166467 -1.610875  1.074559  \n",
       "1         0.999950  9.906034  9.905046  \n",
       "2         0.999950  9.906034  9.905046  \n",
       "3         0.999950  9.906034  9.905046  \n",
       "4         0.999950  9.906034  9.905046  \n",
       "5         0.999950  9.906034  9.905046  \n",
       "6         0.833533  1.610875  1.074559  "
      ]
     },
     "execution_count": 129,
     "metadata": {},
     "output_type": "execute_result"
    }
   ],
   "source": [
    "# 4. Calculate the WoE and IV\n",
    "df['WoE'] = np.log(df['% of Delinquent']/df['% of Qualified'])\n",
    "df['IV'] = df['WoE'] * (df['% of Delinquent']-df['% of Qualified'])\n",
    "df.insert(loc=0, column='Variable', value=current_col)\n",
    "\n",
    "df"
   ]
  },
  {
   "cell_type": "code",
   "execution_count": 130,
   "metadata": {},
   "outputs": [],
   "source": [
    "# Record values in ivDF and woeDF\n",
    "temp = pd.DataFrame({\"Variable\":[current_col], \"IV\":[df['IV'].sum()]}, columns=[\"Variable\", \"IV\"])\n",
    "ivDF = pd.concat([ivDF, temp], axis=0)\n",
    "woeDF = pd.concat([woeDF, df], axis=0)"
   ]
  },
  {
   "cell_type": "code",
   "execution_count": 131,
   "metadata": {},
   "outputs": [
    {
     "name": "stdout",
     "output_type": "stream",
     "text": [
      "        Variable        IV\n",
      "0  MonthlyIncome  51.67435\n"
     ]
    },
    {
     "data": {
      "text/html": [
       "<div>\n",
       "<style scoped>\n",
       "    .dataframe tbody tr th:only-of-type {\n",
       "        vertical-align: middle;\n",
       "    }\n",
       "\n",
       "    .dataframe tbody tr th {\n",
       "        vertical-align: top;\n",
       "    }\n",
       "\n",
       "    .dataframe thead th {\n",
       "        text-align: right;\n",
       "    }\n",
       "</style>\n",
       "<table border=\"1\" class=\"dataframe\">\n",
       "  <thead>\n",
       "    <tr style=\"text-align: right;\">\n",
       "      <th></th>\n",
       "      <th>Variable</th>\n",
       "      <th>QuantileRange</th>\n",
       "      <th>TargetCount</th>\n",
       "      <th>% of Qualified</th>\n",
       "      <th>% of Delinquent</th>\n",
       "      <th>WoE</th>\n",
       "      <th>IV</th>\n",
       "    </tr>\n",
       "  </thead>\n",
       "  <tbody>\n",
       "    <tr>\n",
       "      <th>0</th>\n",
       "      <td>MonthlyIncome</td>\n",
       "      <td>(-3008.75, 300875.0]</td>\n",
       "      <td>8357</td>\n",
       "      <td>0.833533</td>\n",
       "      <td>0.166467</td>\n",
       "      <td>-1.610875</td>\n",
       "      <td>1.074559</td>\n",
       "    </tr>\n",
       "    <tr>\n",
       "      <th>1</th>\n",
       "      <td>MonthlyIncome</td>\n",
       "      <td>(1504375.0, 1805250.0]</td>\n",
       "      <td>0</td>\n",
       "      <td>0.000050</td>\n",
       "      <td>0.999950</td>\n",
       "      <td>9.906034</td>\n",
       "      <td>9.905046</td>\n",
       "    </tr>\n",
       "    <tr>\n",
       "      <th>2</th>\n",
       "      <td>MonthlyIncome</td>\n",
       "      <td>(2707875.0, 3008750.0]</td>\n",
       "      <td>0</td>\n",
       "      <td>0.000050</td>\n",
       "      <td>0.999950</td>\n",
       "      <td>9.906034</td>\n",
       "      <td>9.905046</td>\n",
       "    </tr>\n",
       "    <tr>\n",
       "      <th>3</th>\n",
       "      <td>MonthlyIncome</td>\n",
       "      <td>(300875.0, 601750.0]</td>\n",
       "      <td>0</td>\n",
       "      <td>0.000050</td>\n",
       "      <td>0.999950</td>\n",
       "      <td>9.906034</td>\n",
       "      <td>9.905046</td>\n",
       "    </tr>\n",
       "    <tr>\n",
       "      <th>4</th>\n",
       "      <td>MonthlyIncome</td>\n",
       "      <td>(601750.0, 902625.0]</td>\n",
       "      <td>0</td>\n",
       "      <td>0.000050</td>\n",
       "      <td>0.999950</td>\n",
       "      <td>9.906034</td>\n",
       "      <td>9.905046</td>\n",
       "    </tr>\n",
       "    <tr>\n",
       "      <th>5</th>\n",
       "      <td>MonthlyIncome</td>\n",
       "      <td>(902625.0, 1203500.0]</td>\n",
       "      <td>0</td>\n",
       "      <td>0.000050</td>\n",
       "      <td>0.999950</td>\n",
       "      <td>9.906034</td>\n",
       "      <td>9.905046</td>\n",
       "    </tr>\n",
       "    <tr>\n",
       "      <th>6</th>\n",
       "      <td>MonthlyIncome</td>\n",
       "      <td>nan</td>\n",
       "      <td>1669</td>\n",
       "      <td>0.166467</td>\n",
       "      <td>0.833533</td>\n",
       "      <td>1.610875</td>\n",
       "      <td>1.074559</td>\n",
       "    </tr>\n",
       "  </tbody>\n",
       "</table>\n",
       "</div>"
      ],
      "text/plain": [
       "        Variable           QuantileRange  TargetCount  % of Qualified  \\\n",
       "0  MonthlyIncome    (-3008.75, 300875.0]         8357        0.833533   \n",
       "1  MonthlyIncome  (1504375.0, 1805250.0]            0        0.000050   \n",
       "2  MonthlyIncome  (2707875.0, 3008750.0]            0        0.000050   \n",
       "3  MonthlyIncome    (300875.0, 601750.0]            0        0.000050   \n",
       "4  MonthlyIncome    (601750.0, 902625.0]            0        0.000050   \n",
       "5  MonthlyIncome   (902625.0, 1203500.0]            0        0.000050   \n",
       "6  MonthlyIncome                     nan         1669        0.166467   \n",
       "\n",
       "   % of Delinquent       WoE        IV  \n",
       "0         0.166467 -1.610875  1.074559  \n",
       "1         0.999950  9.906034  9.905046  \n",
       "2         0.999950  9.906034  9.905046  \n",
       "3         0.999950  9.906034  9.905046  \n",
       "4         0.999950  9.906034  9.905046  \n",
       "5         0.999950  9.906034  9.905046  \n",
       "6         0.833533  1.610875  1.074559  "
      ]
     },
     "execution_count": 131,
     "metadata": {},
     "output_type": "execute_result"
    }
   ],
   "source": [
    "print(ivDF)\n",
    "woeDF"
   ]
  },
  {
   "cell_type": "code",
   "execution_count": 132,
   "metadata": {},
   "outputs": [
    {
     "data": {
      "text/plain": [
       "array(['(-3008.75, 300875.0]', '(1504375.0, 1805250.0]',\n",
       "       '(2707875.0, 3008750.0]', '(300875.0, 601750.0]',\n",
       "       '(601750.0, 902625.0]', '(902625.0, 1203500.0]', 'nan'],\n",
       "      dtype=object)"
      ]
     },
     "execution_count": 132,
     "metadata": {},
     "output_type": "execute_result"
    }
   ],
   "source": [
    "woeDF['QuantileRange'].unique()"
   ]
  },
  {
   "cell_type": "code",
   "execution_count": 133,
   "metadata": {},
   "outputs": [
    {
     "data": {
      "image/png": "[encoded data removed]",
      "text/plain": [
       "<Figure size 640x480 with 1 Axes>"
      ]
     },
     "metadata": {},
     "output_type": "display_data"
    }
   ],
   "source": [
    "# plot logical trendline\n",
    "import matplotlib.pyplot as plt\n",
    "\n",
    "plt.plot(woeDF['WoE'], marker=\"o\");"
   ]
  },
  {
   "cell_type": "markdown",
   "metadata": {},
   "source": [
    "**Sample Interpretation**\n",
    "\n",
    " The WoE of `NumberOfDependents` is considered a negative value because there are fewer instances where a person with one or no dependents is qualified *for a loan*. Although people with less than 2 dependents account for 70% of qualified profiles, fewer dependents is not a recommended method for determining a person's credit history. According to defined levels of Variable Predictiveness by [Siddiqi (2006)](https://www.researchgate.net/publication/349548432_Intelligent_Credit_Scoring_Building_and_Implementing_Better_Credit_Risk_Scorecards), none of the `NumberOfDependents` IV results for all bin ranges suggest that a person's dependents are not a powerful factor for determing credit history.\n"
   ]
  }
 ],
 "metadata": {
  "kernelspec": {
   "display_name": "minimal-ds",
   "language": "python",
   "name": "python3"
  },
  "language_info": {
   "codemirror_mode": {
    "name": "ipython",
    "version": 3
   },
   "file_extension": ".py",
   "mimetype": "text/x-python",
   "name": "python",
   "nbconvert_exporter": "python",
   "pygments_lexer": "ipython3",
   "version": "3.11.4"
  },
  "orig_nbformat": 4
 },
 "nbformat": 4,
 "nbformat_minor": 2
}
